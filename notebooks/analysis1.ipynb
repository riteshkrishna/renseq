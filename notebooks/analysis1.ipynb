{
 "worksheets": [
  {
   "cells": [
    {
     "cell_type": "code",
     "execution_count": null,
     "metadata": {},
     "outputs": [
      {
       "output_type": "stream",
       "stream": "stderr",
       "text": [
        "/home/ritesh/anaconda2/lib/python2.7/site-packages/matplotlib/font_manager.py:273: UserWarning: Matplotlib is building the font cache using fc-list. This may take a moment.\n  warnings.warn('Matplotlib is building the font cache using fc-list. This may take a moment.')\n"
       ]
      }
     ],
     "input": [
      "import numpy as np\n",
      "import matplotlib.pyplot as plt\n",
      "import pandas as pd"
     ],
     "language": "python",
     "prompt_number": 13
    },
    {
     "cell_type": "code",
     "execution_count": null,
     "metadata": {},
     "outputs": [],
     "input": [
      "data_location = '/home/ritesh/PycharmProjects/renseq/Temp/PBCS_CS27.sorted.win200.grouped.nonzero.bed'\n",
      "frame = pd.read_csv(data_location,header=None,sep='\\t',names=['contig','loc_start','loc_end','readcount',\n",
      "                                                              'basecovered','length', 'breadth'])"
     ],
     "language": "python",
     "prompt_number": 11
    },
    {
     "cell_type": "code",
     "execution_count": null,
     "metadata": {},
     "outputs": [
      {
       "output_type": "pyout",
       "html": [
        "<div>\n",
        "<table border=\"1\" class=\"dataframe\">\n",
        "  <thead>\n",
        "    <tr style=\"text-align: right;\">\n",
        "      <th></th>\n",
        "      <th>contig</th>\n",
        "      <th>loc_start</th>\n",
        "      <th>loc_end</th>\n",
        "      <th>readcount</th>\n",
        "      <th>basecovered</th>\n",
        "      <th>length</th>\n",
        "      <th>breadth</th>\n",
        "    </tr>\n",
        "  </thead>\n",
        "  <tbody>\n",
        "    <tr>\n",
        "      <th>0</th>\n",
        "      <td>1A</td>\n",
        "      <td>1600</td>\n",
        "      <td>2000</td>\n",
        "      <td>4</td>\n",
        "      <td>152</td>\n",
        "      <td>400</td>\n",
        "      <td>0.380000</td>\n",
        "    </tr>\n",
        "    <tr>\n",
        "      <th>1</th>\n",
        "      <td>1A</td>\n",
        "      <td>5600</td>\n",
        "      <td>6200</td>\n",
        "      <td>15</td>\n",
        "      <td>320</td>\n",
        "      <td>600</td>\n",
        "      <td>0.533333</td>\n",
        "    </tr>\n",
        "    <tr>\n",
        "      <th>2</th>\n",
        "      <td>1A</td>\n",
        "      <td>6400</td>\n",
        "      <td>6800</td>\n",
        "      <td>2</td>\n",
        "      <td>125</td>\n",
        "      <td>400</td>\n",
        "      <td>0.312500</td>\n",
        "    </tr>\n",
        "    <tr>\n",
        "      <th>3</th>\n",
        "      <td>1A</td>\n",
        "      <td>8400</td>\n",
        "      <td>8800</td>\n",
        "      <td>3</td>\n",
        "      <td>199</td>\n",
        "      <td>400</td>\n",
        "      <td>0.497500</td>\n",
        "    </tr>\n",
        "    <tr>\n",
        "      <th>4</th>\n",
        "      <td>1A</td>\n",
        "      <td>13400</td>\n",
        "      <td>14000</td>\n",
        "      <td>32</td>\n",
        "      <td>358</td>\n",
        "      <td>600</td>\n",
        "      <td>0.596667</td>\n",
        "    </tr>\n",
        "  </tbody>\n",
        "</table>\n",
        "</div>"
       ],
       "metadata": {}
      }
     ],
     "input": [
      "frame.head()"
     ],
     "language": "python",
     "prompt_number": 12
    },
    {
     "cell_type": "code",
     "execution_count": null,
     "metadata": {},
     "outputs": [],
     "input": [
      ""
     ],
     "language": "python",
     "prompt_number": 21
    },
    {
     "cell_type": "code",
     "execution_count": null,
     "metadata": {},
     "outputs": [],
     "input": [
      ""
     ],
     "language": "python"
    }
   ]
  }
 ],
 "cells": [],
 "metadata": {},
 "nbformat": 3,
 "nbformat_minor": 0
}